{
  "nbformat": 4,
  "nbformat_minor": 0,
  "metadata": {
    "colab": {
      "name": "music generation.ipynb",
      "provenance": [],
      "collapsed_sections": [],
      "mount_file_id": "1D27Lrl0xREFSIoWb4sw-Gf-l_CBPhj92",
      "authorship_tag": "ABX9TyNHq2OoRsAo8Uj3VfiWmoZP",
      "include_colab_link": true
    },
    "kernelspec": {
      "name": "python3",
      "display_name": "Python 3"
    },
    "accelerator": "GPU"
  },
  "cells": [
    {
      "cell_type": "markdown",
      "metadata": {
        "id": "view-in-github",
        "colab_type": "text"
      },
      "source": [
        "<a href=\"https://colab.research.google.com/github/mittshah2/Music-Generation/blob/main/music_generation.ipynb\" target=\"_parent\"><img src=\"https://colab.research.google.com/assets/colab-badge.svg\" alt=\"Open In Colab\"/></a>"
      ]
    },
    {
      "cell_type": "code",
      "metadata": {
        "id": "1IwnniCBAkP8"
      },
      "source": [
        "import os\n",
        "import music21 as m21\n",
        "import json\n",
        "import tensorflow as tf\n",
        "import numpy as np\n",
        "from tqdm import tqdm"
      ],
      "execution_count": 40,
      "outputs": []
    },
    {
      "cell_type": "code",
      "metadata": {
        "id": "P06XqffEBsE6"
      },
      "source": [
        "ACCEPTABLE_DURATIONS = [\n",
        "    0.25, # 16th note\n",
        "    0.5, # 8th note\n",
        "    0.75,\n",
        "    1.0, # quarter note\n",
        "    1.5,\n",
        "    2, # half note\n",
        "    3,\n",
        "    4 # whole note\n",
        "]\n",
        "SEQUENCE_LENGTH=64"
      ],
      "execution_count": 41,
      "outputs": []
    },
    {
      "cell_type": "code",
      "metadata": {
        "id": "D_bu01m28uV7"
      },
      "source": [
        "def convert(path):\n",
        "  songs=[]\n",
        "  for name in os.listdir(path):\n",
        "    if name[-3:]=='krn':\n",
        "      song=m21.converter.parse(os.path.join(path,name))\n",
        "      songs.append(song)\n",
        "  return songs"
      ],
      "execution_count": null,
      "outputs": []
    },
    {
      "cell_type": "code",
      "metadata": {
        "id": "_03Ptf8hBSn-"
      },
      "source": [
        "def has_acceptable_durations(song, acceptable_durations):\n",
        "    for note in song.flat.notesAndRests:\n",
        "      if note.duration.quarterLength not in acceptable_durations:\n",
        "        return False\n",
        "    return True"
      ],
      "execution_count": null,
      "outputs": []
    },
    {
      "cell_type": "code",
      "metadata": {
        "id": "NaNsiBcSDLC6"
      },
      "source": [
        "def transpose(song):\n",
        "  parts=song.getElementsByClass(m21.stream.Part)\n",
        "  measure_part0=parts[0].getElementsByClass(m21.stream.Measure)\n",
        "  key=measure_part0[0][4]\n",
        "\n",
        "  if not isinstance(key,m21.key.Key):\n",
        "    key=song.analyze(\"key\")\n",
        "\n",
        "  if key.mode == 'major':\n",
        "    interval=m21.interval.Interval(key.tonic,m21.pitch.Pitch('C'))\n",
        "  elif key.mode == 'minor':\n",
        "    interval=m21.interval.Interval(key.tonic,m21.pitch.Pitch('A'))\n",
        "\n",
        "  transposed=song.transpose(interval)\n",
        "\n",
        "  return transposed\n"
      ],
      "execution_count": null,
      "outputs": []
    },
    {
      "cell_type": "code",
      "metadata": {
        "id": "-Zm_cuwiG2ol"
      },
      "source": [
        "def encode_song(song, time_step=0.25):\n",
        "\n",
        "    encoded_song = []\n",
        "\n",
        "    for event in song.flat.notesAndRests:\n",
        "\n",
        "        # handle notes\n",
        "        if isinstance(event, m21.note.Note):\n",
        "            symbol = event.pitch.midi # 60\n",
        "        # handle rests\n",
        "        elif isinstance(event, m21.note.Rest):\n",
        "            symbol = \"r\"\n",
        "\n",
        "        # convert the note/rest into time series notation\n",
        "        steps = int(event.duration.quarterLength / time_step)\n",
        "        for step in range(steps):\n",
        "            if step == 0:\n",
        "                encoded_song.append(symbol)\n",
        "            else:\n",
        "                encoded_song.append(\"_\")\n",
        "\n",
        "    # cast encoded song to str\n",
        "    encoded_song = \" \".join(map(str, encoded_song))\n",
        "\n",
        "    return encoded_song"
      ],
      "execution_count": null,
      "outputs": []
    },
    {
      "cell_type": "code",
      "metadata": {
        "id": "DFOtF8JvBAQ1"
      },
      "source": [
        "def preprocess(path,save_path):\n",
        "  print(\"Loading...\")\n",
        "  songs=convert(path)\n",
        "  print(f\"Loaded {len(songs)} songs\")\n",
        "\n",
        "  for i,song in enumerate(songs):\n",
        "    # print(has_acceptable_duration(song,ACCEPTABLE_DURATIONS))\n",
        "    if not has_acceptable_durations(song,ACCEPTABLE_DURATIONS):\n",
        "      continue\n",
        "    \n",
        "    song=transpose(song)\n",
        "\n",
        "    encoded_song=encode_song(song)\n",
        "\n",
        "    save_path1=os.path.join(save_path,str(i)+'.txt')\n",
        "\n",
        "    with open(save_path1,'w') as fp:\n",
        "      fp.write(encoded_song)\n"
      ],
      "execution_count": null,
      "outputs": []
    },
    {
      "cell_type": "code",
      "metadata": {
        "id": "PUB1994bJ9ni",
        "outputId": "45934b95-dd9c-42de-f770-cd90a38b88f6",
        "colab": {
          "base_uri": "https://localhost:8080/",
          "height": 54
        }
      },
      "source": [
        "preprocess('/content/drive/My Drive/music generation/data/variant','/content/drive/My Drive/music generation/text_files')"
      ],
      "execution_count": null,
      "outputs": [
        {
          "output_type": "stream",
          "text": [
            "Loading...\n",
            "Loaded 26 songs\n"
          ],
          "name": "stdout"
        }
      ]
    },
    {
      "cell_type": "code",
      "metadata": {
        "id": "mmFEfFiMflki"
      },
      "source": [
        "def create_single_file(path,save_path,sequence_length):\n",
        "\n",
        "  new_song_deliminiter=\"/ \"*sequence_length\n",
        "  songs=\"\"\n",
        "\n",
        "  for name in os.listdir(path):\n",
        "    with open(os.path.join(path,name),'r') as fp:\n",
        "      song=fp.read()\n",
        "    songs=songs+song+new_song_deliminiter\n",
        "  \n",
        "  songs=songs[:-1]\n",
        "\n",
        "  with open(save_path,'w') as fp:\n",
        "    fp.write(songs)\n",
        "  \n",
        "  return songs"
      ],
      "execution_count": null,
      "outputs": []
    },
    {
      "cell_type": "code",
      "metadata": {
        "id": "mTsJpqTMjx_l"
      },
      "source": [
        "songs=create_single_file('/content/drive/My Drive/music generation/text_files','/content/drive/My Drive/music generation/dataset.txt',SEQUENCE_LENGTH)"
      ],
      "execution_count": null,
      "outputs": []
    },
    {
      "cell_type": "code",
      "metadata": {
        "id": "87Ma8y4Wtcnl"
      },
      "source": [
        "with open('/content/drive/My Drive/music generation/dataset.txt') as fp:\n",
        "  songs=fp.read()"
      ],
      "execution_count": 1,
      "outputs": []
    },
    {
      "cell_type": "code",
      "metadata": {
        "id": "Eq9b0X7ykkv1"
      },
      "source": [
        "def create_mapping(songs,mapping_path):\n",
        "  mappings={}\n",
        "  \n",
        "  songs=songs.split()\n",
        "  vocab=list(set(songs))\n",
        "\n",
        "  for i,symbol in enumerate(vocab):\n",
        "    mappings[symbol]=i\n",
        "\n",
        "  with open(mapping_path,'w') as fp:\n",
        "    json.dump(mappings,fp)"
      ],
      "execution_count": 2,
      "outputs": []
    },
    {
      "cell_type": "code",
      "metadata": {
        "id": "QfulmSwAlfiU"
      },
      "source": [
        "create_mapping(songs,'/content/drive/My Drive/music generation/mapping.json')"
      ],
      "execution_count": 7,
      "outputs": []
    },
    {
      "cell_type": "code",
      "metadata": {
        "id": "6Vmetx9AnbcF"
      },
      "source": [
        "def map_to_int(json_path,songs):\n",
        "  with open(json_path,'r') as fp:\n",
        "    mappings=json.load(fp)\n",
        "  \n",
        "  int_songs=[]\n",
        "\n",
        "  songs=songs.split()\n",
        "\n",
        "  for symbol in songs:\n",
        "    int_songs.append(mappings[symbol])\n",
        "  \n",
        "  return int_songs"
      ],
      "execution_count": 8,
      "outputs": []
    },
    {
      "cell_type": "code",
      "metadata": {
        "id": "7FRdr-rmo7tg"
      },
      "source": [
        "def generate_training_sequences(sequence_length):\n",
        "\n",
        "  int_songs=map_to_int('/content/drive/My Drive/music generation/mapping.json',songs)\n",
        "\n",
        "  num_sequence=len(int_songs)-sequence_length\n",
        "\n",
        "\n",
        "  inputs=[]\n",
        "  targets=[]\n",
        "\n",
        "  for i in range(num_sequence-1):\n",
        "    inputs.append(int_songs[i:i+sequence_length])\n",
        "    targets.append(int_songs[i+sequence_length+1])\n",
        "\n",
        "  vocab_size=len(set(int_songs))\n",
        "\n",
        "  inputs=tf.keras.utils.to_categorical(inputs,num_classes=vocab_size)\n",
        "  targets=tf.keras.utils.to_categorical(targets,num_classes=vocab_size)\n",
        "    \n",
        "  return inputs,targets"
      ],
      "execution_count": 9,
      "outputs": []
    },
    {
      "cell_type": "code",
      "metadata": {
        "id": "Da_UC05tRxqD"
      },
      "source": [
        "input,target=generate_training_sequences(SEQUENCE_LENGTH)"
      ],
      "execution_count": 15,
      "outputs": []
    },
    {
      "cell_type": "code",
      "metadata": {
        "id": "vAyF2OeqS8ER",
        "outputId": "ce501746-fdc0-43b9-8f81-bb4eec4338bb",
        "colab": {
          "base_uri": "https://localhost:8080/",
          "height": 36
        }
      },
      "source": [
        "input.shape #no of sequence,sequence length,vocab size"
      ],
      "execution_count": 16,
      "outputs": [
        {
          "output_type": "execute_result",
          "data": {
            "text/plain": [
              "(3321, 64, 22)"
            ]
          },
          "metadata": {
            "tags": []
          },
          "execution_count": 16
        }
      ]
    },
    {
      "cell_type": "code",
      "metadata": {
        "id": "tohIspAVyWsS"
      },
      "source": [
        "def build_model(vocab_size):\n",
        "  input=tf.keras.layers.Input(shape=[None,vocab_size])\n",
        "  x=tf.keras.layers.LSTM(256,return_sequences=True)(input)\n",
        "  x=tf.keras.layers.LSTM(256)(x)\n",
        "  x=tf.keras.layers.Dropout(0.25)(x)\n",
        "  x=tf.keras.layers.Dense(vocab_size,activation='softmax')(x)\n",
        "\n",
        "  model=tf.keras.Model(inputs=input,outputs=x)\n",
        "  model.compile(loss='categorical_crossentropy',optimizer=tf.keras.optimizers.Adam(lr=1e-3),metrics=['accuracy'])\n",
        "  return model"
      ],
      "execution_count": 11,
      "outputs": []
    },
    {
      "cell_type": "code",
      "metadata": {
        "id": "QsS6S32VzST_",
        "outputId": "449ca4e5-f36d-401e-aef5-3e32fba19a5c",
        "colab": {
          "base_uri": "https://localhost:8080/",
          "height": 354
        }
      },
      "source": [
        "model=build_model(input.shape[2])\n",
        "model.summary()"
      ],
      "execution_count": 28,
      "outputs": [
        {
          "output_type": "stream",
          "text": [
            "Model: \"functional_7\"\n",
            "_________________________________________________________________\n",
            "Layer (type)                 Output Shape              Param #   \n",
            "=================================================================\n",
            "input_4 (InputLayer)         [(None, None, 22)]        0         \n",
            "_________________________________________________________________\n",
            "lstm_6 (LSTM)                (None, None, 256)         285696    \n",
            "_________________________________________________________________\n",
            "lstm_7 (LSTM)                (None, 256)               525312    \n",
            "_________________________________________________________________\n",
            "dropout_3 (Dropout)          (None, 256)               0         \n",
            "_________________________________________________________________\n",
            "dense_3 (Dense)              (None, 22)                5654      \n",
            "=================================================================\n",
            "Total params: 816,662\n",
            "Trainable params: 816,662\n",
            "Non-trainable params: 0\n",
            "_________________________________________________________________\n"
          ],
          "name": "stdout"
        }
      ]
    },
    {
      "cell_type": "code",
      "metadata": {
        "id": "3rKWgpmJ3Geo"
      },
      "source": [
        "model.fit(input,target,batch_size=64,epochs=64)"
      ],
      "execution_count": null,
      "outputs": []
    },
    {
      "cell_type": "code",
      "metadata": {
        "id": "JhIdq3I93I8C",
        "outputId": "54857204-e316-407f-f6d6-5870ed0150b3",
        "colab": {
          "base_uri": "https://localhost:8080/",
          "height": 284
        }
      },
      "source": [
        "import pandas as pd\n",
        "import seaborn as sns\n",
        "sns.set_style('whitegrid')\n",
        "loss=pd.DataFrame(model.history.history)\n",
        "loss[['loss']].plot()"
      ],
      "execution_count": 34,
      "outputs": [
        {
          "output_type": "execute_result",
          "data": {
            "text/plain": [
              "<matplotlib.axes._subplots.AxesSubplot at 0x7fe99a104048>"
            ]
          },
          "metadata": {
            "tags": []
          },
          "execution_count": 34
        },
        {
          "output_type": "display_data",
          "data": {
            "image/png": "[encoded data removed]",
            "text/plain": [
              "<Figure size 432x288 with 1 Axes>"
            ]
          },
          "metadata": {
            "tags": [],
            "image/png": {
              "width": 372,
              "height": 248
            }
          }
        }
      ]
    },
    {
      "cell_type": "code",
      "metadata": {
        "id": "8Z26dflY3dBN",
        "outputId": "e4e2daae-8825-40be-a024-21a26114cfba",
        "colab": {
          "base_uri": "https://localhost:8080/",
          "height": 284
        }
      },
      "source": [
        "loss[['accuracy']].plot()"
      ],
      "execution_count": 37,
      "outputs": [
        {
          "output_type": "execute_result",
          "data": {
            "text/plain": [
              "<matplotlib.axes._subplots.AxesSubplot at 0x7fe9995e1668>"
            ]
          },
          "metadata": {
            "tags": []
          },
          "execution_count": 37
        },
        {
          "output_type": "display_data",
          "data": {
            "image/png": "[encoded data removed]",
            "text/plain": [
              "<Figure size 432x288 with 1 Axes>"
            ]
          },
          "metadata": {
            "tags": [],
            "image/png": {
              "width": 385,
              "height": 248
            }
          }
        }
      ]
    },
    {
      "cell_type": "code",
      "metadata": {
        "id": "TNFpm9503kMe"
      },
      "source": [
        "model.save('/content/drive/My Drive/music generation/model.h5')"
      ],
      "execution_count": 38,
      "outputs": []
    },
    {
      "cell_type": "code",
      "metadata": {
        "id": "CX63_HBk3v_S"
      },
      "source": [
        "class MelodyGenerator:\n",
        "\n",
        "  def __init__(self):\n",
        "    self.model_path='/content/drive/My Drive/music generation/model.h5'\n",
        "    self.model=tf.keras.models.load_model(self.model_path)\n",
        "\n",
        "    with open('/content/drive/My Drive/music generation/mapping.json') as fp:\n",
        "      self.mapping=json.load(fp)\n",
        "    \n",
        "    self.start_symbols=['/']*SEQUENCE_LENGTH\n",
        "\n",
        "  def sample_with_temp(self,prob,temp):\n",
        "    pred=np.log(prob)/temp\n",
        "    pred=np.exp(pred)/np.sum(np.exp(pred))\n",
        "\n",
        "    choice=range(len(pred))\n",
        "\n",
        "    return np.random.choice(choice,p=pred)\n",
        "\n",
        "\n",
        "  def generate(self,seed,num_steps,max_sequence_length,temp):\n",
        "\n",
        "    seed=seed.split()\n",
        "    melody=seed\n",
        "\n",
        "    seed=self.start_symbols+seed\n",
        "\n",
        "    seed=[self.mapping[sym] for sym in seed]\n",
        "\n",
        "    reverse_mapping={}\n",
        "    for i,j in self.mapping.items():\n",
        "      reverse_mapping[j]=i\n",
        "   \n",
        "    for _ in range(num_steps):\n",
        "      seed=seed[-max_sequence_length:]\n",
        "      one_hot_seed=tf.keras.utils.to_categorical(seed,num_classes=len(self.mapping))\n",
        "      one_hot_seed=one_hot_seed[np.newaxis,...]\n",
        "\n",
        "      prob=model.predict(one_hot_seed)[0]\n",
        "\n",
        "      output_int=self.sample_with_temp(prob,temp)\n",
        "      seed.append(output_int)\n",
        "\n",
        "      out_sym=reverse_mapping[output_int]\n",
        "\n",
        "      if out_sym=='/':\n",
        "        break\n",
        "      else:\n",
        "        melody.append(out_sym)\n",
        "      \n",
        "    return melody\n",
        "  \n",
        "  def save(self,melody,step_duration=0.25,format='midi'):\n",
        "\n",
        "    stream=m21.stream.Stream()\n",
        "\n",
        "    start_symbol=None\n",
        "    step_counter=1\n",
        "    for i, symbol in enumerate(melody):\n",
        "\n",
        "      if symbol != \"_\" or i + 1 == len(melody):\n",
        "\n",
        "           \n",
        "        if start_symbol is not None:\n",
        "\n",
        "          quarter_length_duration = step_duration * step_counter # 0.25 * 4 = 1\n",
        "\n",
        "              \n",
        "          if start_symbol == \"r\":\n",
        "            m21_event = m21.note.Rest(quarterLength=quarter_length_duration)\n",
        "\n",
        "                \n",
        "          else:\n",
        "            m21_event = m21.note.Note(int(start_symbol), quarterLength=quarter_length_duration)\n",
        "\n",
        "          stream.append(m21_event)\n",
        "    \n",
        "          step_counter = 1\n",
        "\n",
        "        start_symbol = symbol\n",
        "\n",
        "      else:\n",
        "        step_counter += 1\n",
        "\n",
        "       \n",
        "    stream.write(format, '/content/drive/My Drive/music generation/music.midi')\n",
        "\n"
      ],
      "execution_count": 88,
      "outputs": []
    },
    {
      "cell_type": "code",
      "metadata": {
        "id": "NvKu9RaXFtUN"
      },
      "source": [
        "m=MelodyGenerator()\n",
        "seed='76 _ _ _ _ _ 74 _ 72 _'\n",
        "melody=m.generate(seed,500,64,0.7)\n",
        "m.save(melody)"
      ],
      "execution_count": 89,
      "outputs": []
    }
  ]
}